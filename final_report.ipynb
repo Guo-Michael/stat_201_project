{
 "cells": [
  {
   "cell_type": "markdown",
   "id": "9b582469-f5d7-40b2-a4e9-f457fbb7f183",
   "metadata": {},
   "source": [
    "# Comparing Canadian Living Wages - Final Report\n",
    "\n",
    "### STAT 201 2021W2 - Group 5\n",
    "\n",
    "By Michael Guo, Joshua Liu, Samuel Leung"
   ]
  },
  {
   "cell_type": "markdown",
   "id": "f9dc1193-977a-4fd2-9c44-9cd9f3bf2fb9",
   "metadata": {
    "tags": []
   },
   "source": [
    "## Introduction\n",
    "\n",
    "Parents wish for flourishing financial futures for their children, but many worry for the upcoming generations' difficulties in achieving independence (Cariaga, 2021). While financial independence is challenging to quantify, many contributing factors include income and cost of living (Xiao, Chatterjee, & Kim, 2014; Lee & Mortimer, 2009). This analysis seeks to answer the question, \"Is a significant change in financial independence hardship for Canadian workers between the years 1990 and 2021?\". The minimum weekly wage (numerical variable `min_wage`) represents the income factor of financial independence while the average weekly rent of a one-bedroom apartment (numerical variable `rent`) represents the cost of living.\n",
    "\n",
    "The data is obtained from two separate datasets published by the Government of Canada that describe the average rent along with the minimum wage in Canadian cities with population greater than 10000. These datasets provide reliable data as the data collection process and quality assurance were managed under the Canadian government. These two datasets were modified to provide two datasets with the average rent of a one-bedroom apartment and minimum wage for the years 1990 and 2021. \n",
    "\n",
    "The response variable is the mean of the ratio of minimum wage and rent (labeled `wage_rent_ratio`) of 1990 and 2021 in Canadian cities. Using minimum wage and average rent as the ratio quantities is reasonable, as being able to afford personal housing is a common measure for independence, and minimum wage is a way to quantify earning power. The standard deviation of ratios will also be useful since it provides a comprehensive spread of the differences in non-outlier city data."
   ]
  },
  {
   "cell_type": "markdown",
   "id": "55046916-9d8c-476c-8086-633b0dd24ae2",
   "metadata": {
    "tags": []
   },
   "source": [
    "## Methods and Results"
   ]
  },
  {
   "cell_type": "markdown",
   "id": "836f2526-7485-4214-8cf5-cbebefea01f5",
   "metadata": {},
   "source": [
    "Loading Required Packages:"
   ]
  },
  {
   "cell_type": "code",
   "execution_count": 1,
   "id": "571f0c42-7d37-4c5b-9936-5bb5b2e77cd7",
   "metadata": {
    "tags": []
   },
   "outputs": [
    {
     "name": "stderr",
     "output_type": "stream",
     "text": [
      "Installing package into ‘/home/jupyter/R/x86_64-pc-linux-gnu-library/4.1’\n",
      "(as ‘lib’ is unspecified)\n",
      "\n",
      "Installing package into ‘/home/jupyter/R/x86_64-pc-linux-gnu-library/4.1’\n",
      "(as ‘lib’ is unspecified)\n",
      "\n",
      "Warning message in system(\"timedatectl\", intern = TRUE):\n",
      "“running command 'timedatectl' had status 1”\n",
      "── \u001b[1mAttaching packages\u001b[22m ─────────────────────────────────────── tidyverse 1.3.1 ──\n",
      "\n",
      "\u001b[32m✔\u001b[39m \u001b[34mggplot2\u001b[39m 3.3.5     \u001b[32m✔\u001b[39m \u001b[34mpurrr  \u001b[39m 0.3.4\n",
      "\u001b[32m✔\u001b[39m \u001b[34mtibble \u001b[39m 3.1.6     \u001b[32m✔\u001b[39m \u001b[34mdplyr  \u001b[39m 1.0.7\n",
      "\u001b[32m✔\u001b[39m \u001b[34mtidyr  \u001b[39m 1.2.0     \u001b[32m✔\u001b[39m \u001b[34mstringr\u001b[39m 1.4.0\n",
      "\u001b[32m✔\u001b[39m \u001b[34mreadr  \u001b[39m 2.1.2     \u001b[32m✔\u001b[39m \u001b[34mforcats\u001b[39m 0.5.1\n",
      "\n",
      "── \u001b[1mConflicts\u001b[22m ────────────────────────────────────────── tidyverse_conflicts() ──\n",
      "\u001b[31m✖\u001b[39m \u001b[34mdplyr\u001b[39m::\u001b[32mfilter()\u001b[39m masks \u001b[34mstats\u001b[39m::filter()\n",
      "\u001b[31m✖\u001b[39m \u001b[34mdplyr\u001b[39m::\u001b[32mlag()\u001b[39m    masks \u001b[34mstats\u001b[39m::lag()\n",
      "\n"
     ]
    }
   ],
   "source": [
    "install.packages(\"infer\")\n",
    "install.packages(\"tidyverse\")\n",
    "library(broom)\n",
    "library(cowplot)\n",
    "library(infer)\n",
    "library(tidyverse)"
   ]
  },
  {
   "cell_type": "markdown",
   "id": "39d0dbf4-8f1d-4a80-9f1c-4384a5c45d2e",
   "metadata": {},
   "source": [
    "Reading in Data from the Web:"
   ]
  },
  {
   "cell_type": "code",
   "execution_count": 2,
   "id": "7a768a6b-3872-4c08-ae1a-79a0d95b7f33",
   "metadata": {},
   "outputs": [],
   "source": [
    "rentwage1990 <- read.csv('https://raw.githubusercontent.com/Guo-Michael/stat_201_project/main/rentwage1990.csv')\n",
    "rentwage2021 <- read.csv('https://raw.githubusercontent.com/Guo-Michael/stat_201_project/main/rentwage2021.csv')"
   ]
  },
  {
   "cell_type": "markdown",
   "id": "410bb411-6cd1-4127-8503-a743e4fa101e",
   "metadata": {},
   "source": [
    "Cleaning and Wrangling Data:"
   ]
  },
  {
   "cell_type": "code",
   "execution_count": 15,
   "id": "2170e77e-2c03-434c-a8bd-2d6b61d1a43f",
   "metadata": {},
   "outputs": [],
   "source": [
    "# Selecting Relevant Features from the Datasets\n",
    "# Changing Hourly Wage to Weekly Wage, and Monthly Rent to Weekly Rent\n",
    "rentwage1990filtered <- rentwage1990 %>%\n",
    "    select(year, city, province, min_wage, rent) %>%\n",
    "    mutate(min_wage = min_wage * 35) %>%\n",
    "    mutate(rent = rent * 12 / 52)\n",
    "rentwage2021filtered <- rentwage2021 %>%\n",
    "    select(year, city, province, min_wage, rent) %>%\n",
    "    mutate(min_wage = min_wage * 35) %>%\n",
    "    mutate(rent = rent * 12 / 52)\n",
    "\n",
    "# Merging Both Datasets\n",
    "rentwage_bothyears <- bind_rows(rentwage1990filtered, rentwage2021filtered)\n",
    "\n",
    "# Checking for Data Inconsistency Over the Years\n",
    "# If data for a city only appears for one year and not the other,\n",
    "# the data is incomplete, and therefore will need to be removed\n",
    "# before analysis.\n",
    "\n",
    "# Checking for cities that appear in both years\n",
    "double_cities <- rentwage_bothyears %>%\n",
    "    group_by(city) %>%\n",
    "    summarize(n = n()) %>%\n",
    "    ungroup() %>%\n",
    "    filter(n == 2) %>%\n",
    "    pull(city)\n",
    "\n",
    "# Filtering away cities that do not appear in both years\n",
    "rentwage_clean <- rentwage_bothyears %>%\n",
    "    filter(city %in% double_cities) %>%\n",
    "    select(-province) %>%\n",
    "# Constructing Wage-Rent Ratio for both years\n",
    "    mutate(wage_rent_ratio = rent/min_wage) %>%\n",
    "    select(-min_wage, -rent) %>%\n",
    "# Wrangling Data to show years as data features, not as a variable\n",
    "    mutate(year = ifelse(year == 1990, \"year1990\", \"year2021\")) %>%\n",
    "    pivot_wider(names_from = year, values_from = wage_rent_ratio) %>%\n",
    "# Differencing Ratios\n",
    "    mutate(ratio_diff = year2021-year1990)"
   ]
  },
  {
   "cell_type": "markdown",
   "id": "78d0670a-fc3e-4ffc-9648-06c5423d9a2d",
   "metadata": {},
   "source": [
    "### Exploratory Visualization:"
   ]
  },
  {
   "cell_type": "code",
   "execution_count": 4,
   "id": "6bd49f5b-297a-4a26-8f9e-92516b046e95",
   "metadata": {},
   "outputs": [
    {
     "name": "stderr",
     "output_type": "stream",
     "text": [
      "Warning message:\n",
      "“Removed 2 rows containing missing values (geom_bar).”\n",
      "Warning message:\n",
      "“Removed 2 rows containing missing values (geom_bar).”\n"
     ]
    },
    {
     "data": {
      "image/png": "[encoded data removed]",
      "text/plain": [
       "plot without title"
      ]
     },
     "metadata": {
      "image/png": {
       "height": 360,
       "width": 720
      }
     },
     "output_type": "display_data"
    }
   ],
   "source": [
    "# Visualizaing 2021 Wage-Rent Ratio via Histogram\n",
    "sample_dist_2021 <- rentwage_clean %>%\n",
    "    ggplot(aes(x = year2021)) +\n",
    "    geom_histogram(binwidth = 0.03) +\n",
    "    ggtitle(\"2021 Sample Distribution\") +\n",
    "    xlab(\"Wage-Rent Ratio\") +\n",
    "    xlim(0, 1) +\n",
    "    ylim(0, 30) \n",
    "\n",
    "# Visualizaing 1990 Wage-Rent Ratio via Histogram\n",
    "sample_dist_1990 <- rentwage_clean %>%\n",
    "    ggplot(aes(x = year1990)) +\n",
    "    geom_histogram(binwidth = 0.03) +\n",
    "    ggtitle(\"1990 Sample Distribution\") +\n",
    "    xlab(\"Wage-Rent Ratio\") +\n",
    "    xlim(0, 1) +\n",
    "    ylim(0, 30)\n",
    "\n",
    "# Displaying Plots Side by Side\n",
    "options(repr.plot.width = 12, repr.plot.height = 6)\n",
    "plots <- plot_grid(sample_dist_1990, sample_dist_2021)\n",
    "plots"
   ]
  },
  {
   "cell_type": "markdown",
   "id": "df707dd6-b6b9-4fbf-9b34-b9039596e2da",
   "metadata": {},
   "source": [
    "*Figure 1: Sample Distribution of Wage-Rent Ratios from 1990 and 2021*"
   ]
  },
  {
   "cell_type": "code",
   "execution_count": 5,
   "id": "3102aaa6-c557-4e6a-aebb-7c66ca90d864",
   "metadata": {},
   "outputs": [
    {
     "data": {
      "text/html": [
       "<table class=\"dataframe\">\n",
       "<caption>A tibble: 1 × 2</caption>\n",
       "<thead>\n",
       "\t<tr><th scope=col>mean_ratio_diff</th><th scope=col>sd_ratio_diff</th></tr>\n",
       "\t<tr><th scope=col>&lt;dbl&gt;</th><th scope=col>&lt;dbl&gt;</th></tr>\n",
       "</thead>\n",
       "<tbody>\n",
       "\t<tr><td>-0.1081855</td><td>0.06628746</td></tr>\n",
       "</tbody>\n",
       "</table>\n"
      ],
      "text/latex": [
       "A tibble: 1 × 2\n",
       "\\begin{tabular}{ll}\n",
       " mean\\_ratio\\_diff & sd\\_ratio\\_diff\\\\\n",
       " <dbl> & <dbl>\\\\\n",
       "\\hline\n",
       "\t -0.1081855 & 0.06628746\\\\\n",
       "\\end{tabular}\n"
      ],
      "text/markdown": [
       "\n",
       "A tibble: 1 × 2\n",
       "\n",
       "| mean_ratio_diff &lt;dbl&gt; | sd_ratio_diff &lt;dbl&gt; |\n",
       "|---|---|\n",
       "| -0.1081855 | 0.06628746 |\n",
       "\n"
      ],
      "text/plain": [
       "  mean_ratio_diff sd_ratio_diff\n",
       "1 -0.1081855      0.06628746   "
      ]
     },
     "metadata": {},
     "output_type": "display_data"
    }
   ],
   "source": [
    "wage_rent_ratio_diff_estimates <- rentwage_clean %>%\n",
    "    summarize(mean_ratio_diff = mean(ratio_diff),\n",
    "              sd_ratio_diff = sd(ratio_diff))\n",
    "wage_rent_ratio_diff_estimates"
   ]
  },
  {
   "cell_type": "markdown",
   "id": "aaaba025-b942-464c-a704-013df3d60bb3",
   "metadata": {},
   "source": [
    "*Figure 2: Parameter Estimates for Wage-Rent Ratio Difference Between 1990 and 2021*"
   ]
  },
  {
   "cell_type": "markdown",
   "id": "d566932c-edbc-4f0f-9591-5c1fea31a93c",
   "metadata": {},
   "source": [
    "From Figures 1 and 2, we see that, though there is an apparent difference between the ratios of 1990 and 2021, more analysis may need to be conducted to conclusively determine a significant difference between the two years. Without deeper inferential analysis, the significance of the ratio difference estimates is inconclusive."
   ]
  },
  {
   "cell_type": "markdown",
   "id": "5105912b-2722-4c8b-bd12-bbbfaf883ad9",
   "metadata": {},
   "source": [
    "Creating Boxplots of the ratios between 1990 and 2021:"
   ]
  },
  {
   "cell_type": "code",
   "execution_count": 6,
   "id": "ce29015d-5d35-4132-ba45-62fd0f32e867",
   "metadata": {
    "tags": []
   },
   "outputs": [
    {
     "name": "stderr",
     "output_type": "stream",
     "text": [
      "Warning message:\n",
      "“`guides(<scale> = FALSE)` is deprecated. Please use `guides(<scale> = \"none\")` instead.”\n"
     ]
    },
    {
     "data": {
      "image/png": "[encoded data removed]",
      "text/plain": [
       "plot without title"
      ]
     },
     "metadata": {
      "image/png": {
       "height": 360,
       "width": 720
      }
     },
     "output_type": "display_data"
    }
   ],
   "source": [
    "# Preparing Data for Boxplot Visualization Implementation\n",
    "bp_df <- pivot_longer(rentwage_clean, \n",
    "                     cols=year1990:year2021,\n",
    "                     names_to=\"year\",\n",
    "                     values_to=\"wage_ratio\")\n",
    "\n",
    "# Visualizaing Boxplots\n",
    "boxplots <- bp_df %>%\n",
    "    ggplot() +\n",
    "    geom_boxplot(aes(year, wage_ratio, fill=year)) +\n",
    "    theme(text = element_text(size = 22)) +\n",
    "    ggtitle(\"Boxplots of Wage-Rent Ratios by Year\") + \n",
    "    xlab(\"Year\") + \n",
    "    ylab(\"Wage-Rent\") + \n",
    "    guides(fill = FALSE)\n",
    "boxplots"
   ]
  },
  {
   "cell_type": "markdown",
   "id": "8a711b82-f929-4e1a-883b-bcecf78ff938",
   "metadata": {},
   "source": [
    "*Figure 3: Boxplot of distribution of Wage-Rent Ratios for years 1990 and 2021*"
   ]
  },
  {
   "cell_type": "markdown",
   "id": "26dd0db2-7c5d-4767-a783-18077d7a8db6",
   "metadata": {},
   "source": [
    "From the boxplots, we see that the wage-rent ratios in 1990 seem to be higher on average than the wage-rent ratios in 2021; this will be further investigated in the two inferential analysis methods below."
   ]
  },
  {
   "cell_type": "markdown",
   "id": "9b460afc-a46d-4290-a60f-21997c27ac97",
   "metadata": {},
   "source": [
    "### Asymptotics"
   ]
  },
  {
   "cell_type": "markdown",
   "id": "d8b41fd7-7a58-4c31-bc56-9e95ec14ce2e",
   "metadata": {},
   "source": [
    "We investigate further through a paired one-sample t-test, to determine the significance in the observed difference between the ratios. We avoid a two-sample t-test, since each 1990 observation has a corresponding observation in 2021 of the same city, meaning the two are not independent of each other. We instead use the difference in wage-rent ratios for each city, as we reasonably assume that data between cities are independent of each other."
   ]
  },
  {
   "cell_type": "markdown",
   "id": "f581ccca-0805-44d6-904a-7e8b3a19f8aa",
   "metadata": {},
   "source": [
    "To begin, we check for normality of the data using a histogram:"
   ]
  },
  {
   "cell_type": "code",
   "execution_count": 7,
   "id": "ae08d05e-6287-4fdb-8a76-fd08a032c225",
   "metadata": {},
   "outputs": [
    {
     "data": {
      "image/png": "[encoded data removed]",
      "text/plain": [
       "plot without title"
      ]
     },
     "metadata": {
      "image/png": {
       "height": 360,
       "width": 720
      }
     },
     "output_type": "display_data"
    }
   ],
   "source": [
    "# visualizing the distribution of ratio_diff\n",
    "ratio_diff_dist <- rentwage_clean %>%\n",
    "    ggplot(aes(x = ratio_diff)) +\n",
    "    geom_histogram(binwidth = 0.03) +\n",
    "    xlab(\"Difference in Ratio between Minimum Wage and Rent\") +\n",
    "    ggtitle(\"ratio_diff Sample Distribution\")\n",
    "ratio_diff_dist"
   ]
  },
  {
   "cell_type": "markdown",
   "id": "423f43a0-8368-4fea-82f6-42690de26388",
   "metadata": {},
   "source": [
    "*Figure 4: Histogram of wage-rent ratios*"
   ]
  },
  {
   "cell_type": "markdown",
   "id": "2103903e-5147-4693-bede-769f4ce9d9f4",
   "metadata": {},
   "source": [
    "From the histogram above, The normality of the data can be reasonably assumed. We procede through the following steps:\n",
    "\n",
    "1. Conduct a paired one-sample t-test\n",
    "2. Using the resulting p-value to make a conclusion to reject or not reject the null hypothesis\n",
    "3. Interpret the output to obtain a 95% confidence interval\n",
    "\n",
    "For the paired one-sample t-test, our null hypothesis is \"There is no difference in the average wage-rent ratios of 1990 and 2021\", namely that the difference of true mean wage ratios is zero. The alternative hypothesis is \"There is a difference in the average wage-rent ratios of 1990 and 2021\", namely that the difference of true mean wage ratios is non-zero. We set the significance level of the test to be $\\alpha = 0.05$."
   ]
  },
  {
   "cell_type": "code",
   "execution_count": 14,
   "id": "35e7af8e-4e6f-4e1c-9510-1f7e876d098c",
   "metadata": {},
   "outputs": [
    {
     "data": {
      "text/html": [
       "<table class=\"dataframe\">\n",
       "<caption>A tibble: 1 × 8</caption>\n",
       "<thead>\n",
       "\t<tr><th scope=col>estimate</th><th scope=col>statistic</th><th scope=col>p.value</th><th scope=col>parameter</th><th scope=col>conf.low</th><th scope=col>conf.high</th><th scope=col>method</th><th scope=col>alternative</th></tr>\n",
       "\t<tr><th scope=col>&lt;dbl&gt;</th><th scope=col>&lt;dbl&gt;</th><th scope=col>&lt;dbl&gt;</th><th scope=col>&lt;dbl&gt;</th><th scope=col>&lt;dbl&gt;</th><th scope=col>&lt;dbl&gt;</th><th scope=col>&lt;chr&gt;</th><th scope=col>&lt;chr&gt;</th></tr>\n",
       "</thead>\n",
       "<tbody>\n",
       "\t<tr><td>-0.1081855</td><td>-18.31989</td><td>3.297283e-37</td><td>125</td><td>-0.1198729</td><td>-0.09649802</td><td>Paired t-test</td><td>two.sided</td></tr>\n",
       "</tbody>\n",
       "</table>\n"
      ],
      "text/latex": [
       "A tibble: 1 × 8\n",
       "\\begin{tabular}{llllllll}\n",
       " estimate & statistic & p.value & parameter & conf.low & conf.high & method & alternative\\\\\n",
       " <dbl> & <dbl> & <dbl> & <dbl> & <dbl> & <dbl> & <chr> & <chr>\\\\\n",
       "\\hline\n",
       "\t -0.1081855 & -18.31989 & 3.297283e-37 & 125 & -0.1198729 & -0.09649802 & Paired t-test & two.sided\\\\\n",
       "\\end{tabular}\n"
      ],
      "text/markdown": [
       "\n",
       "A tibble: 1 × 8\n",
       "\n",
       "| estimate &lt;dbl&gt; | statistic &lt;dbl&gt; | p.value &lt;dbl&gt; | parameter &lt;dbl&gt; | conf.low &lt;dbl&gt; | conf.high &lt;dbl&gt; | method &lt;chr&gt; | alternative &lt;chr&gt; |\n",
       "|---|---|---|---|---|---|---|---|\n",
       "| -0.1081855 | -18.31989 | 3.297283e-37 | 125 | -0.1198729 | -0.09649802 | Paired t-test | two.sided |\n",
       "\n"
      ],
      "text/plain": [
       "  estimate   statistic p.value      parameter conf.low   conf.high  \n",
       "1 -0.1081855 -18.31989 3.297283e-37 125       -0.1198729 -0.09649802\n",
       "  method        alternative\n",
       "1 Paired t-test two.sided  "
      ]
     },
     "metadata": {},
     "output_type": "display_data"
    }
   ],
   "source": [
    "tidy(t.test(rentwage_clean$year2021,rentwage_clean$year1990, mu=0, paired=TRUE,conf.level=1-0.05))"
   ]
  },
  {
   "cell_type": "markdown",
   "id": "a882e72f-a466-4aad-90d1-c6477db4ca51",
   "metadata": {},
   "source": [
    "*Figure 5: Results of two-sample T-test*"
   ]
  },
  {
   "cell_type": "markdown",
   "id": "98de3007-cf16-4ed9-a6c9-f21267efd16c",
   "metadata": {},
   "source": [
    "From our test results, we acquired a p-value of roughly $3.297\\times 10^{-37}$. As our p-value is lower than the significance level ($\\alpha = 0.05$), there is significant evidence that there is a difference between the ratios of 1990 and 2021; therefore, we reject the aforementioned null hypothesis in favor of the alternative hypothesis. We also acquire a 95% confidence interval from the test, which is $[-0.1198729, -0.09649802]$. This confidence interval tells us that if we repeat this test many times, we expect the estimate of the difference of wage-rent ratio means to be within the range of $[-0.1198729, -0.09649802]$ 95% of the time. Since the value 0 is not included in this confidence interval, the results suggest that there is a significant difference between the 1990 and 2021 ratios, which agree with the hypothesis test results."
   ]
  },
  {
   "cell_type": "markdown",
   "id": "d2748562-2468-4e1d-9631-0aeb0bd7980e",
   "metadata": {
    "tags": []
   },
   "source": [
    "### Bootstrapping"
   ]
  },
  {
   "cell_type": "markdown",
   "id": "d7d29d8c-e3ad-42db-bc3f-66009f50170c",
   "metadata": {},
   "source": [
    "We continue our exploration of this problem via bootstrapping. Our test statistic continues to be the difference of mean wage-rent ratios of 1990 and 2021, along with the same null and alternative hypothesis used for the one-sample T-test. Bootstrapping produces a poor estimation of the sampling distribution when the sample size is small. We first check the size of our dataset before continuing: "
   ]
  },
  {
   "cell_type": "code",
   "execution_count": 32,
   "id": "6f5df91f-f4a4-4e02-8896-0dcf994d7668",
   "metadata": {},
   "outputs": [
    {
     "data": {
      "text/html": [
       "126"
      ],
      "text/latex": [
       "126"
      ],
      "text/markdown": [
       "126"
      ],
      "text/plain": [
       "[1] 126"
      ]
     },
     "metadata": {},
     "output_type": "display_data"
    }
   ],
   "source": [
    "length(rentwage_clean$ratio_diff)"
   ]
  },
  {
   "cell_type": "markdown",
   "id": "da079a13-33a9-4764-bea4-39879d979566",
   "metadata": {},
   "source": [
    "The sample size is greater than 30, so we assume that the dataset is of sufficient size. We procede through the following steps:\n",
    "\n",
    "1. Use bootstrapping to approximate a sampling distribution of the difference of wage-rent ratios (ratio_diff)\n",
    "2. Use the sampling distribution to construct a 95% confidence interval of the mean of ratio_diff\n",
    "3. Create the null distribution by shifting the sampling distribution of the mean to have mean = 0\n",
    "4. Compare the observed mean ratio diff to the null distribution and obtain a p-value\n",
    "5. Make a conclusion whether to reject or not reject the null hypothesis"
   ]
  },
  {
   "cell_type": "code",
   "execution_count": 34,
   "id": "cac32f28-ca95-4f23-82e5-4235f787aee9",
   "metadata": {},
   "outputs": [
    {
     "name": "stderr",
     "output_type": "stream",
     "text": [
      "Warning message:\n",
      "“Please be cautious in reporting a p-value of 0. This result is an approximation based on the number of `reps` chosen in the `generate()` step. See `?get_p_value()` for more information.”\n"
     ]
    }
   ],
   "source": [
    "# bootstrapping\n",
    "set.seed(1)\n",
    "\n",
    "# constructing a 95% confidence interval\n",
    "bootstrap_ci <- rentwage_clean %>%\n",
    "    specify(response = ratio_diff) %>%\n",
    "    generate(reps = 10000, type = \"bootstrap\") %>%\n",
    "    calculate(stat = \"mean\") %>%\n",
    "    get_ci(level = 0.95, type = \"percentile\")\n",
    "\n",
    "# hypothesis test\n",
    "obs_ratio_diff <- wage_rent_ratio_diff_estimates %>% pull(mean_ratio_diff)\n",
    "\n",
    "bootstrap_null_ratio_diff <- rentwage_clean %>%\n",
    "    specify(response = ratio_diff) %>%\n",
    "    hypothesize(null = \"point\", mu = 0) %>%\n",
    "    generate(reps = 10000, type = \"bootstrap\") %>%\n",
    "    calculate(stat = \"mean\")\n",
    "\n",
    "# visualizing the results\n",
    "bootstrap_result_plot <- bootstrap_null_ratio_diff %>%\n",
    "    visualize() +\n",
    "    shade_p_value(obs_stat = obs_ratio_diff, direction = \"both\") +\n",
    "    xlab(\"Mean\")\n",
    "\n",
    "# obtaining the results \n",
    "bootstrap_p_value <- bootstrap_null_ratio_diff %>%\n",
    "    get_p_value(obs_stat = obs_ratio_diff, direction = \"both\")"
   ]
  },
  {
   "cell_type": "code",
   "execution_count": 35,
   "id": "4630d018-cc62-46c6-a2b5-edef5433bb96",
   "metadata": {},
   "outputs": [
    {
     "data": {
      "image/png": "[encoded data removed]",
      "text/plain": [
       "plot without title"
      ]
     },
     "metadata": {
      "image/png": {
       "height": 360,
       "width": 720
      }
     },
     "output_type": "display_data"
    }
   ],
   "source": [
    "bootstrap_result_plot"
   ]
  },
  {
   "cell_type": "markdown",
   "id": "19f21575-e434-467d-8be7-b7c3ce459674",
   "metadata": {},
   "source": [
    "*Figure 6: Histogram of null distribution and the observed difference in wage-rent ratio means*"
   ]
  },
  {
   "cell_type": "code",
   "execution_count": 42,
   "id": "470c1afc-dd3c-4b16-b683-40ad55d41893",
   "metadata": {},
   "outputs": [
    {
     "data": {
      "text/html": [
       "<table class=\"dataframe\">\n",
       "<caption>A tibble: 1 × 3</caption>\n",
       "<thead>\n",
       "\t<tr><th scope=col>lower_ci</th><th scope=col>upper_ci</th><th scope=col>p_value</th></tr>\n",
       "\t<tr><th scope=col>&lt;dbl&gt;</th><th scope=col>&lt;dbl&gt;</th><th scope=col>&lt;dbl&gt;</th></tr>\n",
       "</thead>\n",
       "<tbody>\n",
       "\t<tr><td>-0.1195498</td><td>-0.09675232</td><td>0</td></tr>\n",
       "</tbody>\n",
       "</table>\n"
      ],
      "text/latex": [
       "A tibble: 1 × 3\n",
       "\\begin{tabular}{lll}\n",
       " lower\\_ci & upper\\_ci & p\\_value\\\\\n",
       " <dbl> & <dbl> & <dbl>\\\\\n",
       "\\hline\n",
       "\t -0.1195498 & -0.09675232 & 0\\\\\n",
       "\\end{tabular}\n"
      ],
      "text/markdown": [
       "\n",
       "A tibble: 1 × 3\n",
       "\n",
       "| lower_ci &lt;dbl&gt; | upper_ci &lt;dbl&gt; | p_value &lt;dbl&gt; |\n",
       "|---|---|---|\n",
       "| -0.1195498 | -0.09675232 | 0 |\n",
       "\n"
      ],
      "text/plain": [
       "  lower_ci   upper_ci    p_value\n",
       "1 -0.1195498 -0.09675232 0      "
      ]
     },
     "metadata": {},
     "output_type": "display_data"
    }
   ],
   "source": [
    "tibble(lower_ci=bootstrap_ci$lower_ci, upper_ci=bootstrap_ci$upper_ci, p_value=bootstrap_p_value$p_value)\n",
    "# bootstrap_ci \n",
    "# bootstrap_p_value"
   ]
  },
  {
   "cell_type": "markdown",
   "id": "3e89fd7a-01d8-4585-88bd-61b910b0c91c",
   "metadata": {},
   "source": [
    "*Figure 7: table listing the 95% confidence interval and observed p-value*"
   ]
  },
  {
   "cell_type": "markdown",
   "id": "1561be18-80b8-4c2c-ad1e-3246bfd5bde8",
   "metadata": {},
   "source": [
    "From our hypothesis test using bootstrapping, we acquire a p-value of 0. We interpret that this value is a rounded estimate of a very small value from the code's computations using floating point numbers, since a true p-value of 0 cannot be obtained by any finite observed value due to the tails of the distribution spanning to positive and negative infinity. Given that our p-value is less than the significance level of $5\\%$, we conclude once again that we favor the alternative hypothesis over the null. The $95\\%$ confidence interval from this test is $[-0.1195498, -0.09675232]$, which is extremely similar to the confidence interval we observe from the t-test above. This confidence interval reassures that repeating this test many times will give us an estimate of the difference of mean wage-rent ratios contained in this interval 95% of the time. "
   ]
  },
  {
   "cell_type": "markdown",
   "id": "8458b0a5-5f65-4488-a0ff-c5b2cef8f8cd",
   "metadata": {},
   "source": [
    "From the tests above, we see that both bootstrapping and asymptotic methods resulted in a rejection of the null hypothesis. Furthermore, the confidence intervals produced were very similar to one another. From the confidence intervals produced, it seems that both bootstrapping and asymptotic methods led to estimating very similar sampling distributions. From this, it is expected that both tests would give similar results, and so we conclude that both tests work equally well in this situation, and that neither test seems to be more appropriate to use than the other. "
   ]
  },
  {
   "cell_type": "markdown",
   "id": "1a8261df-ab23-4920-81f9-9108c6689452",
   "metadata": {},
   "source": [
    "## Discussion\n",
    "\n",
    "From our hypothesis tests, we found that there is a negative difference in average wage-rent ratios between the years 1990 and 2021. In the context of our question, this means that there has been a decrease in financial independence hardship for Canadian workers in 2021 since 1990. This result was not expected, as it contrasts the established motivation of this analysis of how younger generations are experiencing prolonged financial frustration and hardship. However, the implications of these findings may be limited, as minimum rage and the rent of a one-bedroom apartment are only one of many ways to quantify independence and earning power, respectively. While the current data may imply a decrease in hardship, few Canadians may rely on minimum wage or a one-bedroom apartment as permanent living conditions, and therefore the analysis may not be a holistic representation of the socioeconomic changes of the past three decades.\n",
    "\n",
    "Other quantifiers of independence, such as rent or listings of other residence types, as well as other essential living expenses (such as transportation and food), should be considered in future studies. Other quantifiers of earning power, such as average income, as well as quantifiers for job search and security, should also be considered in future studies, so to include more data from different portions of the population to better represent them in analyses. Furthermore, data from each year can be analysed using time-series analyses in future research, combining the different quantifiers, so to extract more information on year-by-year changes, to better suggest economic and community-related solutions for the security, stability, and growth of future generations."
   ]
  },
  {
   "cell_type": "markdown",
   "id": "481d2f18-f26f-4379-9d04-dd87bbb3552a",
   "metadata": {
    "tags": []
   },
   "source": [
    "## References\n",
    "\n",
    "Cariaga, V. (2021, December 8). Over 60% of millennials and gen Z are 'constantly stressed' about money, survey finds. GOBankingRates. Retrieved March 5, 2022, from https://www.gobankingrates.com/money/financial-planning/over-60-of-millennials-and-gen-z-are-constantly-stressed-about-money-survey-finds/\n",
    "\n",
    "Government of Canada. (2022, February 21). Average rents for areas with a population of 10,000 and over - dataset. Open Government Portal. Retrieved March 5, 2022, from https://open.canada.ca/data/en/dataset/1146388b-a150-4e70-98ec-eb40cb9083c8/resource/2be23210-9dd2-4511-840e-c467e0645827 \n",
    "\n",
    "Government of Canada. (2016, December 6). Hourly minimum wages in Canada for adult workers. Hourly Minimum Wages in CANADA for Adult Workers - Canada.ca. Retrieved March 5, 2022, from http://srv116.services.gc.ca/dimt-wid/sm-mw/rpt2.aspx \n",
    "\n",
    "Lee, J. C., & Mortimer, J. T. (2009). Family Socialization, Economic Self-Efficacy, and the Attainment of Financial Independence in Early Adulthood. *Longitudinal and life course studies : international journal, 1*(1), 45–62.\n",
    "\n",
    "Xiao, J. J., Chatterjee, S., &amp; Kim, J. (2014). Factors associated with financial independence of Young Adults. *International Journal of Consumer Studies, 38*(4), 394–403. https://doi.org/10.1111/ijcs.12106 \n"
   ]
  },
  {
   "cell_type": "code",
   "execution_count": null,
   "id": "1cb31db2-1f10-404a-8541-9f1a57a9cba0",
   "metadata": {},
   "outputs": [],
   "source": []
  }
 ],
 "metadata": {
  "kernelspec": {
   "display_name": "R",
   "language": "R",
   "name": "ir"
  },
  "language_info": {
   "codemirror_mode": "r",
   "file_extension": ".r",
   "mimetype": "text/x-r-source",
   "name": "R",
   "pygments_lexer": "r",
   "version": "4.1.2"
  }
 },
 "nbformat": 4,
 "nbformat_minor": 5
}
