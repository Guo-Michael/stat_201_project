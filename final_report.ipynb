{
 "cells": [
  {
   "cell_type": "markdown",
   "id": "9b582469-f5d7-40b2-a4e9-f457fbb7f183",
   "metadata": {},
   "source": [
    "# Comparing Canadian Living Wages - Final Report\n",
    "\n",
    "### STAT 201 2021W2 - Group 5\n",
    "\n",
    "By Michael Guo, Joshua Liu, Samuel Leung"
   ]
  },
  {
   "cell_type": "markdown",
   "id": "f9dc1193-977a-4fd2-9c44-9cd9f3bf2fb9",
   "metadata": {
    "tags": []
   },
   "source": [
    "## Introduction\n",
    "\n",
    "Parents wish for flourishing financial futures for their children, but many worry for the upcoming generations' difficulties in achieving independence (Cariaga, 2021). While financial independence is challenging to quantify, many contributing factors include income and cost of living (Xiao, Chatterjee, & Kim, 2014; Lee & Mortimer, 2009). This analysis seeks to answer the question, \"Is a significant change in financial independence hardship for Canadian workers between the years 1990 and 2021?\". The minimum weekly wage (numerical variable `min_wage`) represents the income factor of financial independence while the average weekly rent of a one-bedroom apartment (numerical variable `rent`) represents the cost of living.\n",
    "\n",
    "The data is obtained from two separate datasets published by the Government of Canada that describe the average rent along with the minimum wage in Canadian cities with population greater than 10000. These two datasets were modified to provide two datasets with the average rent of a one-bedroom apartment and minimum wage for the years 1990 and 2021. \n",
    "\n",
    "The response variable is the difference between ratios of minimum wage and rent (labeled `ratio_diff`) of 1990 and 2021 in Canadian cities. The mean difference between wage-rent ratios helps answer our question since estimating the mean across major Canadian cities provides insight into the living conditions of the population between generations. The standard deviation of ratio differences will also be useful since it provides a comprehensive spread of the differences in non-outlier city data."
   ]
  },
  {
   "cell_type": "markdown",
   "id": "55046916-9d8c-476c-8086-633b0dd24ae2",
   "metadata": {},
   "source": [
    "## Preliminary Results\n",
    "\n"
   ]
  },
  {
   "cell_type": "markdown",
   "id": "836f2526-7485-4214-8cf5-cbebefea01f5",
   "metadata": {},
   "source": [
    "Loading Required Packages:"
   ]
  },
  {
   "cell_type": "code",
   "execution_count": null,
   "id": "571f0c42-7d37-4c5b-9936-5bb5b2e77cd7",
   "metadata": {
    "tags": []
   },
   "outputs": [],
   "source": [
    "install.packages(\"infer\")\n",
    "install.packages(\"tidyverse\")\n",
    "library(cowplot)\n",
    "library(infer)\n",
    "library(tidyverse)"
   ]
  },
  {
   "cell_type": "markdown",
   "id": "39d0dbf4-8f1d-4a80-9f1c-4384a5c45d2e",
   "metadata": {},
   "source": [
    "Reading in Data from the Web:"
   ]
  },
  {
   "cell_type": "code",
   "execution_count": null,
   "id": "7a768a6b-3872-4c08-ae1a-79a0d95b7f33",
   "metadata": {},
   "outputs": [],
   "source": [
    "rentwage1990 <- read.csv('https://raw.githubusercontent.com/Guo-Michael/stat_201_project/main/rentwage1990.csv')\n",
    "rentwage2021 <- read.csv('https://raw.githubusercontent.com/Guo-Michael/stat_201_project/main/rentwage2021.csv')"
   ]
  },
  {
   "cell_type": "markdown",
   "id": "410bb411-6cd1-4127-8503-a743e4fa101e",
   "metadata": {},
   "source": [
    "Cleaning and Wrangling Data:"
   ]
  },
  {
   "cell_type": "code",
   "execution_count": null,
   "id": "2170e77e-2c03-434c-a8bd-2d6b61d1a43f",
   "metadata": {},
   "outputs": [],
   "source": [
    "# Selecting Relevant Features from the Datasets\n",
    "# Changing Hourly Wage to Weekly Wage, and Monthly Rent to Weekly Rent\n",
    "rentwage1990filtered <- rentwage1990 %>%\n",
    "    select(year, city, province, min_wage, rent) %>%\n",
    "    mutate(min_wage = min_wage * 35) %>%\n",
    "    mutate(rent = rent * 12 / 52)\n",
    "rentwage2021filtered <- rentwage2021 %>%\n",
    "    select(year, city, province, min_wage, rent) %>%\n",
    "    mutate(min_wage = min_wage * 35) %>%\n",
    "    mutate(rent = rent * 12 / 52)\n",
    "\n",
    "# Merging Both Datasets\n",
    "rentwage_bothyears <- bind_rows(rentwage1990filtered, rentwage2021filtered)\n",
    "\n",
    "# Checking for Data Inconsistency Over the Years\n",
    "# If data for a city only appears for one year and not the other,\n",
    "# the data is incomplete, and therefore will need to be removed\n",
    "# before analysis.\n",
    "\n",
    "# Checking for cities that appear in both years\n",
    "double_cities <- rentwage_bothyears %>%\n",
    "    group_by(city) %>%\n",
    "    summarize(n = n()) %>%\n",
    "    ungroup() %>%\n",
    "    filter(n == 2) %>%\n",
    "    pull(city)\n",
    "\n",
    "# Filtering away cities that do not appear in both years\n",
    "rentwage_clean <- rentwage_bothyears %>%\n",
    "    filter(city %in% double_cities) %>%\n",
    "    select(-province) %>%\n",
    "# Constructing Wage-Rent Ratio for both years\n",
    "    mutate(wage_rent_ratio = rent/min_wage) %>%\n",
    "    select(-min_wage, -rent) %>%\n",
    "# Wrangling Data to show years as data features, not as a variable\n",
    "    mutate(year = ifelse(year == 1990, \"year1990\", \"year2021\")) %>%\n",
    "    pivot_wider(names_from = year, values_from = wage_rent_ratio) %>%\n",
    "# Differencing Ratios\n",
    "    mutate(ratio_diff = year2021-year1990)"
   ]
  },
  {
   "cell_type": "markdown",
   "id": "78d0670a-fc3e-4ffc-9648-06c5423d9a2d",
   "metadata": {},
   "source": [
    "Exploratory Visualization:"
   ]
  },
  {
   "cell_type": "code",
   "execution_count": null,
   "id": "6bd49f5b-297a-4a26-8f9e-92516b046e95",
   "metadata": {},
   "outputs": [],
   "source": [
    "# Visualizaing 2021 Wage-Rent Ratio via Histogram\n",
    "sample_dist_2021 <- rentwage_clean %>%\n",
    "    ggplot(aes(x = year2021)) +\n",
    "    geom_histogram(binwidth = 0.03) +\n",
    "    ggtitle(\"2021 Sample Distribution\") +\n",
    "    xlab(\"Wage-Rent Ratio\") +\n",
    "    xlim(0, 1) +\n",
    "    ylim(0, 30) \n",
    "\n",
    "# Visualizaing 1990 Wage-Rent Ratio via Histogram\n",
    "sample_dist_1990 <- rentwage_clean %>%\n",
    "    ggplot(aes(x = year1990)) +\n",
    "    geom_histogram(binwidth = 0.03) +\n",
    "    ggtitle(\"1990 Sample Distribution\") +\n",
    "    xlab(\"Wage-Rent Ratio\") +\n",
    "    xlim(0, 1) +\n",
    "    ylim(0, 30)\n",
    "\n",
    "# Displaying Plots Side by Side\n",
    "options(repr.plot.width = 12, repr.plot.height = 6)\n",
    "plots <- plot_grid(sample_dist_1990, sample_dist_2021)\n",
    "plots"
   ]
  },
  {
   "cell_type": "markdown",
   "id": "df707dd6-b6b9-4fbf-9b34-b9039596e2da",
   "metadata": {},
   "source": [
    "*Figure 1: Sample Distribution of Wage-Rent Ratios from 1990 and 2021*"
   ]
  },
  {
   "cell_type": "code",
   "execution_count": null,
   "id": "3102aaa6-c557-4e6a-aebb-7c66ca90d864",
   "metadata": {},
   "outputs": [],
   "source": [
    "wage_rent_ratio_diff_estimates <- rentwage_clean %>%\n",
    "    summarize(mean_ratio_diff = mean(ratio_diff),\n",
    "              sd_ratio_diff = sd(ratio_diff))\n",
    "wage_rent_ratio_diff_estimates"
   ]
  },
  {
   "cell_type": "markdown",
   "id": "aaaba025-b942-464c-a704-013df3d60bb3",
   "metadata": {},
   "source": [
    "*Figure 2: Parameter Estimates for Wage-Rent Ratio Difference Between 1990 and 2021*"
   ]
  },
  {
   "cell_type": "code",
   "execution_count": null,
   "id": "039d2a39-20c4-4fbb-8335-db40df8ff359",
   "metadata": {},
   "outputs": [],
   "source": [
    "### Implement Actual Hypothesis Test - Details from \"Methods\" from Proposal\n",
    "### LABEL ALL TABLES/FIGURES\n",
    "\n",
    "# Bootstrapping\n",
    "# Hypo Test & Conf Int\n",
    "\n",
    "# Asymptotics\n",
    "# Hypo Test & Conf Int\n"
   ]
  },
  {
   "cell_type": "markdown",
   "id": "38e4ac82-daa0-4d54-8545-b0b1c0a7ab6d",
   "metadata": {
    "tags": []
   },
   "source": [
    "## Results\n",
    "\n",
    "!!! REMEMBER TO RUN ALL CELLS BEFORE SUBMISSION\n",
    "\n",
    "!!! Response Variable: Just the ratio (NOT THE DIFFERENCE BETWEEN THE TWO GROUPS)\n",
    "\n",
    "(Include why your dataset is reliable)\n",
    "\n",
    "a) Describe methods used (suggestion: modify \"methods\" to past tense, filter out irrelevant content/sentences)\n",
    "\n",
    "b) Bootstrapping vs. asymptotics - which one is more appropriate? why? How did results differ and why? Which one is more trustworthy?\n",
    "\n",
    "### (Old Methods Section)\n",
    "\n",
    "Using minimum wage and average rent as the ratio quantities is reasonable and trustworthy, as being able to afford personal housing is a common measure for independence, and minimum wage is a way to quantify earning power. Differencing the ratios across years therefore reasonably quantifies change in independence hardships, with 0 representing no change, and positive values representing increased hardship.\n",
    "\n",
    "The histograms generated provide preliminary insight into the differences in wage-rent ratios across Canadian cities, but do not provide a conclusive argument on how the ratios changed across the 31 years. Furthermore, without deeper inferential analysis, the significance of the ratio difference estimates is inconclusive.\n",
    "\n",
    "Hypothesis testing will be conducted on this difference quantity; the null hypothesis claims there is no difference between the 1990 and 2021 wage-rent ratios. Testing will be conducted through bootstrapping and asymptotics methods, via resampling the data many times as well as using the Central Limit Theorem to approximate the null distribution. Since the data points from 1990 and 2021 are collected from the same cities, these two samples are not independent, and therefore a two-sample t-test cannot be used. Instead, a paired one-sample, two-sided t-test will be used, with each observation being a city, and the test statistic being the wage-rent ratio difference between 1990 and 2021. Confidence intervals will be similarly conducted using the previously mentioned methods to assess the significance in ratio differences.\n",
    "\n",
    "We expect to find that the cost of financial independence has changed since 1990, due to the many historical, political, and economic progressions in the 31-year gap. Such findings could inspire deeper analysis to better understand future generations' needs and tailoring planning for economic and individual stability. Future analysis can include other variables influencing financial independence, or conducting a time series analysis involving yearly data, providing more insight to the dynamic changes in the past decades.    "
   ]
  },
  {
   "cell_type": "markdown",
   "id": "1a8261df-ab23-4920-81f9-9108c6689452",
   "metadata": {},
   "source": [
    "## Discussion\n",
    "a) Interpret results - summarize findings and implications\n",
    "\n",
    "b) Discuss if they were expected\n",
    "\n",
    "c) Discuss future questions"
   ]
  },
  {
   "cell_type": "markdown",
   "id": "481d2f18-f26f-4379-9d04-dd87bbb3552a",
   "metadata": {
    "tags": []
   },
   "source": [
    "## References\n",
    "\n",
    "Cariaga, V. (2021, December 8). Over 60% of millennials and gen Z are 'constantly stressed' about money, survey finds. GOBankingRates. Retrieved March 5, 2022, from https://www.gobankingrates.com/money/financial-planning/over-60-of-millennials-and-gen-z-are-constantly-stressed-about-money-survey-finds/\n",
    "\n",
    "Government of Canada. (2022, February 21). Average rents for areas with a population of 10,000 and over - dataset. Open Government Portal. Retrieved March 5, 2022, from https://open.canada.ca/data/en/dataset/1146388b-a150-4e70-98ec-eb40cb9083c8/resource/2be23210-9dd2-4511-840e-c467e0645827 \n",
    "\n",
    "Government of Canada. (2016, December 6). Hourly minimum wages in Canada for adult workers. Hourly Minimum Wages in CANADA for Adult Workers - Canada.ca. Retrieved March 5, 2022, from http://srv116.services.gc.ca/dimt-wid/sm-mw/rpt2.aspx \n",
    "\n",
    "Lee, J. C., & Mortimer, J. T. (2009). Family Socialization, Economic Self-Efficacy, and the Attainment of Financial Independence in Early Adulthood. *Longitudinal and life course studies : international journal, 1*(1), 45–62.\n",
    "\n",
    "Xiao, J. J., Chatterjee, S., &amp; Kim, J. (2014). Factors associated with financial independence of Young Adults. *International Journal of Consumer Studies, 38*(4), 394–403. https://doi.org/10.1111/ijcs.12106 \n"
   ]
  },
  {
   "cell_type": "code",
   "execution_count": null,
   "id": "1cb31db2-1f10-404a-8541-9f1a57a9cba0",
   "metadata": {},
   "outputs": [],
   "source": []
  }
 ],
 "metadata": {
  "kernelspec": {
   "display_name": "R",
   "language": "R",
   "name": "ir"
  },
  "language_info": {
   "codemirror_mode": "r",
   "file_extension": ".r",
   "mimetype": "text/x-r-source",
   "name": "R",
   "pygments_lexer": "r",
   "version": "4.1.2"
  }
 },
 "nbformat": 4,
 "nbformat_minor": 5
}
