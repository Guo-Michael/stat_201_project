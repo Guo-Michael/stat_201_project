{
 "cells": [
  {
   "cell_type": "markdown",
   "id": "9b582469-f5d7-40b2-a4e9-f457fbb7f183",
   "metadata": {},
   "source": [
    "# Comparing Canadian Living Wages - Project Proposal\n",
    "\n",
    "### STAT 201 2021W2 - Group 5\n",
    "\n",
    "By Michael Guo, Joshua Liu, Samuel Leung"
   ]
  },
  {
   "cell_type": "markdown",
   "id": "f9dc1193-977a-4fd2-9c44-9cd9f3bf2fb9",
   "metadata": {
    "tags": []
   },
   "source": [
    "## Introduction\n",
    "\n",
    "Parents wish for flourishing financial futures for their children, but many worry for the upcoming generations' difficulties in achieving independence (Cariaga, 2021). While financial independence is challenging to quantify, many contributing factors include income and cost of living (Xiao, Chatterjee, & Kim, 2014; Lee & Mortimer, 2009). This analysis seeks to answer the question, \"Is a significant change in financial independence hardship for Canadian workers between the years 1990 and 2021?\". The minimum weekly wage (numerical variable `min_wage`) represents the income factor of financial independence while the average weekly rent of a one-bedroom apartment (numerical variable `rent`) represents the cost of living.\n",
    "\n",
    "The data is obtained from two separate datasets published by the Government of Canada that describe the average rent along with the minimum wage in Canadian cities with population greater than 10000. These two datasets were modified to provide two datasets with the average rent of a one-bedroom apartment and minimum wage for the years 1990 and 2021. \n",
    "\n",
    "The response variable is the difference between living ratios (labeled `ratio_diff`) of 1990 and 2021 in Canadian cities. The mean difference between living ratios helps answer our question since estimating the mean across major Canadian cities provides insight into the living conditions of the population between generations. The inter-quartile range of ratio differences will also be useful since it provides a comprehensive spread of the differences in non-outlier city data."
   ]
  },
  {
   "cell_type": "markdown",
   "id": "55046916-9d8c-476c-8086-633b0dd24ae2",
   "metadata": {},
   "source": [
    "## Preliminary Results\n",
    "\n"
   ]
  },
  {
   "cell_type": "markdown",
   "id": "836f2526-7485-4214-8cf5-cbebefea01f5",
   "metadata": {},
   "source": [
    "Loading Required Packages:"
   ]
  },
  {
   "cell_type": "code",
   "execution_count": 22,
   "id": "571f0c42-7d37-4c5b-9936-5bb5b2e77cd7",
   "metadata": {
    "tags": []
   },
   "outputs": [
    {
     "name": "stderr",
     "output_type": "stream",
     "text": [
      "Installing package into ‘/home/jupyter/R/x86_64-pc-linux-gnu-library/4.1’\n",
      "(as ‘lib’ is unspecified)\n",
      "\n",
      "Installing package into ‘/home/jupyter/R/x86_64-pc-linux-gnu-library/4.1’\n",
      "(as ‘lib’ is unspecified)\n",
      "\n"
     ]
    }
   ],
   "source": [
    "install.packages(\"infer\")\n",
    "install.packages(\"tidyverse\")\n",
    "library(cowplot)\n",
    "library(infer)\n",
    "library(tidyverse)"
   ]
  },
  {
   "cell_type": "markdown",
   "id": "39d0dbf4-8f1d-4a80-9f1c-4384a5c45d2e",
   "metadata": {},
   "source": [
    "Reading in Data from the Web:"
   ]
  },
  {
   "cell_type": "code",
   "execution_count": 23,
   "id": "7a768a6b-3872-4c08-ae1a-79a0d95b7f33",
   "metadata": {},
   "outputs": [],
   "source": [
    "rentwage1990 <- read.csv('https://raw.githubusercontent.com/Guo-Michael/stat_201_project/main/rentwage1990.csv')\n",
    "rentwage2021 <- read.csv('https://raw.githubusercontent.com/Guo-Michael/stat_201_project/main/rentwage2021.csv')"
   ]
  },
  {
   "cell_type": "markdown",
   "id": "410bb411-6cd1-4127-8503-a743e4fa101e",
   "metadata": {},
   "source": [
    "Cleaning and Wrangling Data:"
   ]
  },
  {
   "cell_type": "code",
   "execution_count": 34,
   "id": "2170e77e-2c03-434c-a8bd-2d6b61d1a43f",
   "metadata": {},
   "outputs": [],
   "source": [
    "# Selecting Relevant Features from the Datasets\n",
    "# Changing Hourly Wage to Weekly Wage, and Monthly Rent to Weekly Rent\n",
    "rentwage1990filtered <- rentwage1990 %>%\n",
    "    select(year, city, province, min_wage, rent) %>%\n",
    "    mutate(min_wage = min_wage * 35) %>%\n",
    "    mutate(rent = rent * 12 / 52)\n",
    "rentwage2021filtered <- rentwage2021 %>%\n",
    "    select(year, city, province, min_wage, rent) %>%\n",
    "    mutate(min_wage = min_wage * 35) %>%\n",
    "    mutate(rent = rent * 12 / 52)\n",
    "\n",
    "# Merging Both Datasets\n",
    "rentwage_bothyears <- bind_rows(rentwage1990filtered, rentwage2021filtered)\n",
    "\n",
    "# Checking for Data Inconsistency Over the Years\n",
    "# If data for a city only appears for one year and not the other,\n",
    "# the data is incomplete, and therefore will need to be removed\n",
    "# before analysis.\n",
    "\n",
    "# Checking for cities that appear in both years\n",
    "double_cities <- rentwage_bothyears %>%\n",
    "    group_by(city) %>%\n",
    "    summarize(n = n()) %>%\n",
    "    ungroup() %>%\n",
    "    filter(n == 2) %>%\n",
    "    pull(city)\n",
    "\n",
    "# Filtering away cities that do not appear in both years\n",
    "rentwage_clean <- rentwage_bothyears %>%\n",
    "    filter(city %in% double_cities) %>%\n",
    "    select(-province) %>%\n",
    "# Constructing Living Ratio for both years, switching units to $/week\n",
    "    mutate(living_ratio = rent/min_wage) %>%\n",
    "    select(-min_wage, -rent) %>%\n",
    "# Wrangling Data to show years as data features, not as a variable\n",
    "    mutate(year = ifelse(year == 1990, \"year1990\", \"year2021\")) %>%\n",
    "    pivot_wider(names_from = year, values_from = living_ratio) %>%\n",
    "# Differencing Ratios\n",
    "    mutate(ratio_diff = year2021-year1990)"
   ]
  },
  {
   "cell_type": "markdown",
   "id": "78d0670a-fc3e-4ffc-9648-06c5423d9a2d",
   "metadata": {},
   "source": [
    "Exploratory Visualization:"
   ]
  },
  {
   "cell_type": "code",
   "execution_count": 36,
   "id": "6bd49f5b-297a-4a26-8f9e-92516b046e95",
   "metadata": {},
   "outputs": [
    {
     "name": "stderr",
     "output_type": "stream",
     "text": [
      "Warning message:\n",
      "“Removed 2 rows containing missing values (geom_bar).”\n",
      "Warning message:\n",
      "“Removed 2 rows containing missing values (geom_bar).”\n"
     ]
    },
    {
     "data": {
      "image/png": "[encoded data removed]",
      "text/plain": [
       "plot without title"
      ]
     },
     "metadata": {
      "image/png": {
       "height": 360,
       "width": 720
      }
     },
     "output_type": "display_data"
    }
   ],
   "source": [
    "# Visualizaing 2021 Living Ratio via Histogram\n",
    "sample_dist_2021 <- rentwage_clean %>%\n",
    "    ggplot(aes(x = year2021)) +\n",
    "    geom_histogram(binwidth = 0.03) +\n",
    "    ggtitle(\"2021 Sample Distribution\") +\n",
    "    xlab(\"Living Ratio\") +\n",
    "    xlim(0, 1) +\n",
    "    ylim(0, 30) \n",
    "\n",
    "# Visualizaing 1990 Living Ratio via Histogram\n",
    "sample_dist_1990 <- rentwage_clean %>%\n",
    "    ggplot(aes(x = year1990)) +\n",
    "    geom_histogram(binwidth = 0.03) +\n",
    "    ggtitle(\"1990 Sample Distribution\") +\n",
    "    xlab(\"Living Ratio\") +\n",
    "    xlim(0, 1) +\n",
    "    ylim(0, 30)\n",
    "\n",
    "# Displaying Plots Side by Side\n",
    "options(repr.plot.width = 12, repr.plot.height = 6)\n",
    "plots <- plot_grid(sample_dist_1990, sample_dist_2021)\n",
    "plots"
   ]
  },
  {
   "cell_type": "markdown",
   "id": "df707dd6-b6b9-4fbf-9b34-b9039596e2da",
   "metadata": {},
   "source": [
    "Computing Parameter Estimates: Living Ratio Means from 1990 and 2021"
   ]
  },
  {
   "cell_type": "code",
   "execution_count": 37,
   "id": "3102aaa6-c557-4e6a-aebb-7c66ca90d864",
   "metadata": {},
   "outputs": [
    {
     "data": {
      "text/html": [
       "<table class=\"dataframe\">\n",
       "<caption>A tibble: 1 × 2</caption>\n",
       "<thead>\n",
       "\t<tr><th scope=col>mean_ratio_difference</th><th scope=col>iqr_ratio_difference</th></tr>\n",
       "\t<tr><th scope=col>&lt;dbl&gt;</th><th scope=col>&lt;dbl&gt;</th></tr>\n",
       "</thead>\n",
       "<tbody>\n",
       "\t<tr><td>-0.1081855</td><td>0.08174834</td></tr>\n",
       "</tbody>\n",
       "</table>\n"
      ],
      "text/latex": [
       "A tibble: 1 × 2\n",
       "\\begin{tabular}{ll}\n",
       " mean\\_ratio\\_difference & iqr\\_ratio\\_difference\\\\\n",
       " <dbl> & <dbl>\\\\\n",
       "\\hline\n",
       "\t -0.1081855 & 0.08174834\\\\\n",
       "\\end{tabular}\n"
      ],
      "text/markdown": [
       "\n",
       "A tibble: 1 × 2\n",
       "\n",
       "| mean_ratio_difference &lt;dbl&gt; | iqr_ratio_difference &lt;dbl&gt; |\n",
       "|---|---|\n",
       "| -0.1081855 | 0.08174834 |\n",
       "\n"
      ],
      "text/plain": [
       "  mean_ratio_difference iqr_ratio_difference\n",
       "1 -0.1081855            0.08174834          "
      ]
     },
     "metadata": {},
     "output_type": "display_data"
    }
   ],
   "source": [
    "living_ratio_difference_estimates <- rentwage_clean %>%\n",
    "    summarize(mean_ratio_difference = mean(ratio_diff),\n",
    "              iqr_ratio_difference = IQR(ratio_diff))\n",
    "living_ratio_difference_estimates"
   ]
  },
  {
   "cell_type": "markdown",
   "id": "38e4ac82-daa0-4d54-8545-b0b1c0a7ab6d",
   "metadata": {
    "tags": []
   },
   "source": [
    "## Methods: Plan\n",
    "\n",
    "Using minimum wage and average rent as the ratio quantities is reasonable and trustworthy, as being able to afford personal housing is a common measure for independence, and minimum wage is a way to quantify earning power. Differencing the ratios across years therefore reasonably quantifies change in independence hardships, with 0 representing no change, and positive values representing increased hardship.\n",
    "\n",
    "The histograms generated provide preliminary insight into the differences in living ratios across Canadian cities, but do not provide a conclusive argument on how the ratios changed across the 31 years. Furthermore, without deeper inferential analysis, the significance of the ratio difference estimates is inconclusive.\n",
    "\n",
    "Hypothesis testing will be conducted on this difference quantity; the null hypothesis claims there is no difference between the 1990 and 2021 living ratios. Testing will be conducted through bootstrapping and asymptotics methods, via resampling the data many times as well as using the Central Limit Theorem to approximate the null distribution. Since the data points from 1990 and 2021 are collected from the same cities, these two samples are not independent, and therefore a two-sample t-test cannot be used. Instead, a paired one-sample, two-sided t-test will be used, with each observation being a city, and the test statistic being the living ratio difference between 1990 and 2021. Confidence intervals will be similarly conducted using the previously mentioned methods to assess the significance in ratio differences.\n",
    "\n",
    "We expect to find that the cost of financial independence has changed since 1990, due to the many historical, political, and economic progressions in the 31-year gap. Such findings could inspire deeper analysis to better understand future generations' needs and tailoring planning for economic and individual stability. Future analysis can include other variables influencing financial independence, or conducting a time series analysis involving yearly data, providing more insight to the dynamic changes in the past decades.    "
   ]
  },
  {
   "cell_type": "markdown",
   "id": "481d2f18-f26f-4379-9d04-dd87bbb3552a",
   "metadata": {},
   "source": [
    "## References\n",
    "\n",
    "Cariaga, V. (2021, December 8). Over 60% of millennials and gen Z are 'constantly stressed' about money, survey finds. GOBankingRates. Retrieved March 5, 2022, from https://www.gobankingrates.com/money/financial-planning/over-60-of-millennials-and-gen-z-are-constantly-stressed-about-money-survey-finds/\n",
    "\n",
    "Government of Canada. (2022, February 21). Average rents for areas with a population of 10,000 and over - dataset. Open Government Portal. Retrieved March 5, 2022, from https://open.canada.ca/data/en/dataset/1146388b-a150-4e70-98ec-eb40cb9083c8/resource/2be23210-9dd2-4511-840e-c467e0645827 \n",
    "\n",
    "Government of Canada. (2016, December 6). Hourly minimum wages in Canada for adult workers. Hourly Minimum Wages in CANADA for Adult Workers - Canada.ca. Retrieved March 5, 2022, from http://srv116.services.gc.ca/dimt-wid/sm-mw/rpt2.aspx \n",
    "\n",
    "Lee, J. C., & Mortimer, J. T. (2009). Family Socialization, Economic Self-Efficacy, and the Attainment of Financial Independence in Early Adulthood. *Longitudinal and life course studies : international journal, 1*(1), 45–62.\n",
    "\n",
    "Xiao, J. J., Chatterjee, S., &amp; Kim, J. (2014). Factors associated with financial independence of Young Adults. *International Journal of Consumer Studies, 38*(4), 394–403. https://doi.org/10.1111/ijcs.12106 \n"
   ]
  },
  {
   "cell_type": "code",
   "execution_count": null,
   "id": "bdf3e937-9066-4276-902f-f155ba110de4",
   "metadata": {},
   "outputs": [],
   "source": []
  }
 ],
 "metadata": {
  "kernelspec": {
   "display_name": "R",
   "language": "R",
   "name": "ir"
  },
  "language_info": {
   "codemirror_mode": "r",
   "file_extension": ".r",
   "mimetype": "text/x-r-source",
   "name": "R",
   "pygments_lexer": "r",
   "version": "4.1.2"
  }
 },
 "nbformat": 4,
 "nbformat_minor": 5
}
