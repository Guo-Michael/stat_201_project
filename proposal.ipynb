{
 "cells": [
  {
   "cell_type": "markdown",
   "id": "9b582469-f5d7-40b2-a4e9-f457fbb7f183",
   "metadata": {},
   "source": [
    "# Comparing Canadian Living Wages - Project Proposal\n",
    "\n",
    "## STAT 201 - Group 5\n",
    "\n",
    "By Michael Guo, Joshua Liu, Samuel Leung"
   ]
  },
  {
   "cell_type": "markdown",
   "id": "f9dc1193-977a-4fd2-9c44-9cd9f3bf2fb9",
   "metadata": {},
   "source": [
    "## Introduction\n",
    "\n"
   ]
  },
  {
   "cell_type": "markdown",
   "id": "55046916-9d8c-476c-8086-633b0dd24ae2",
   "metadata": {},
   "source": [
    "## Preliminary Results\n",
    "\n"
   ]
  },
  {
   "cell_type": "code",
   "execution_count": null,
   "id": "571f0c42-7d37-4c5b-9936-5bb5b2e77cd7",
   "metadata": {
    "tags": []
   },
   "outputs": [],
   "source": [
    "install.packages(\"infer\")\n",
    "install.packages(\"tidyverse\")\n",
    "# library(cowplot)\n",
    "# library(datateachr)\n",
    "# library(digest)\n",
    "library(infer)\n",
    "# library(repr)\n",
    "# library(taxyvr)\n",
    "library(tidyverse)"
   ]
  },
  {
   "cell_type": "code",
   "execution_count": null,
   "id": "7a768a6b-3872-4c08-ae1a-79a0d95b7f33",
   "metadata": {},
   "outputs": [],
   "source": [
    "rentwage1990 <- read.csv('https://raw.githubusercontent.com/Guo-Michael/stat_201_project/main/rentwage1990.csv')\n",
    "rentwage2021 <- read.csv('https://raw.githubusercontent.com/Guo-Michael/stat_201_project/main/rentwage2021.csv')"
   ]
  },
  {
   "cell_type": "code",
   "execution_count": null,
   "id": "2170e77e-2c03-434c-a8bd-2d6b61d1a43f",
   "metadata": {},
   "outputs": [],
   "source": [
    "rentwage1990filtered <- rentwage1990 %>%\n",
    "   # select(REF_DATE,City,Province,VALUE,Minimum.Wage)\n",
    "    select(year,city,province,min_wage,rent)\n",
    "rentwage1990filtered\n",
    "# Plot two histograms"
   ]
  },
  {
   "cell_type": "markdown",
   "id": "38e4ac82-daa0-4d54-8545-b0b1c0a7ab6d",
   "metadata": {},
   "source": [
    "## Methods: Plan\n",
    "\n",
    "The goal of this analysis is to discover if the cost of financial independence, measured by the ratio of minimum wage to rent, has increased in 2021 compared to 1990. We believe this ratio of rent to minimum wage, which we also call living ratio, is a reasonable assumption for cost of financial independence, as being able to afford personal housing is a common measure for independence. Minimum wage is a way to quantify earning power, and for the purposes of this analysis we believe this measure is reasonable. The data we collect to compute this ratio is taken from the Government of Canada, so we believe it is reasonable to assume the data is accurate. \n",
    "\n",
    "Specifically, what we're trying to analyze is if the average of the living ratio in 1990 is different than the average of the living ratio in 2021. Simply computing these statistics is insufficient, as we wouldn't know if any differences or similarities is due to chance or not. We instead use hypothesis testing to investigate this problem. Using the difference of the averages of the living ratios as the test statistic, we can perform a one-sample t-test with the null hypothesis being that there is no difference in the averages, versus the alternative hypothesis being that the average living ratio in 2021 is higher. This can also be expressed using confidence intervals, to see if 0 is included in the interval constructed. \n",
    "\n",
    "We recognize that the ratio of rent to wages is the division of two normal random variables, which results in a distribution that is not normal,. However, our test statistic is simply the average, and by Central Limit Theorem, we can assume that the average living ratio will come from a normal distribution given sufficient sample size. Therefore, we believe it is reasonable, given the size of our data, to perform a Z-test, as the T-distribution we expect to see would be extremely similar to a normal distribution. \n",
    "\n",
    "We would expect to find that the cost of financial independence has increased from 1990.\n"
   ]
  },
  {
   "cell_type": "markdown",
   "id": "481d2f18-f26f-4379-9d04-dd87bbb3552a",
   "metadata": {},
   "source": [
    "## Links to Data:\n",
    "\n",
    "Rent Data: https://open.canada.ca/data/en/dataset/1146388b-a150-4e70-98ec-eb40cb9083c8/resource/2be23210-9dd2-4511-840e-c467e0645827\n",
    "\n",
    "Minimum Wages: http://srv116.services.gc.ca/dimt-wid/sm-mw/rpt2.aspx"
   ]
  }
 ],
 "metadata": {
  "kernelspec": {
   "display_name": "R",
   "language": "R",
   "name": "ir"
  },
  "language_info": {
   "codemirror_mode": "r",
   "file_extension": ".r",
   "mimetype": "text/x-r-source",
   "name": "R",
   "pygments_lexer": "r",
   "version": "4.1.2"
  }
 },
 "nbformat": 4,
 "nbformat_minor": 5
}
